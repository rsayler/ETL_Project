{
 "cells": [
  {
   "cell_type": "markdown",
   "metadata": {},
   "source": [
    "## Extractor: World Bank\n",
    "Notebook used to extract information from the World Bank API; School Enrollment, primary and secondary (gross), gender parity index (GPI).  \n",
    "  \n",
    "To manually pull the data use: http://api.worldbank.org/v2/en/indicator/SE.ENR.PRSC.FM.ZS?downloadformat=csv"
   ]
  },
  {
   "cell_type": "markdown",
   "metadata": {},
   "source": [
    "## 0 Dependencies\n",
    "This Jupyter notebook is dependent on two resources:  \n",
    "  \n",
    "#### pandas_datareader\n",
    "This library is used to query the World Bank API and convert the results into a DataFrame. This must be installed with the following on the BASH commandline: 'pip install pandas-datareader'  \n",
    "  \n",
    "#### secrets.py\n",
    "Within the same folder as this jupyter notebook, the file \"secrets.py\" is required that contains a single entry for the password for the root user for the MySQL instance.  The entry is to be named \"mysqlpassword\""
   ]
  },
  {
   "cell_type": "code",
   "execution_count": 1,
   "metadata": {},
   "outputs": [],
   "source": [
    "#-- Import Libraries\n",
    "import pandas as pd\n",
    "from pandas_datareader import wb\n",
    "\n",
    "from sqlalchemy import create_engine\n",
    "import pymysql\n",
    "\n",
    "pymysql.install_as_MySQLdb()\n",
    "\n",
    "from secrets import mysqlpassword\n",
    "\n",
    "\n",
    "#- Variables\n",
    "rawDbName = 'SouthAmericaHappiness_Raw'"
   ]
  },
  {
   "cell_type": "markdown",
   "metadata": {},
   "source": [
    "## 1 Extractor\n",
    "Pull the data from the World Bank API."
   ]
  },
  {
   "cell_type": "markdown",
   "metadata": {},
   "source": [
    "### 1.1 Extractor Data from World Bank\n",
    "Using the pandas_datareader that has functionality to pull from the World Bank API; pull data for the \"School Enrollment, primary and secondary (gross), gender parity index (GPI)\".  Get for all countries between the years of 2008 and 2018."
   ]
  },
  {
   "cell_type": "code",
   "execution_count": 2,
   "metadata": {},
   "outputs": [
    {
     "name": "stdout",
     "output_type": "stream",
     "text": [
      "Success in downloading indicator into dataframe. Count: SE.ENR.PRSC.FM.ZS    1733\n",
      "dtype: int64\n"
     ]
    }
   ],
   "source": [
    "#- Set Incidicator\n",
    "sourceIncidicator = 'SE.ENR.PRSC.FM.ZS'\n",
    "\n",
    "\n",
    "#- Request Data from World Bank\n",
    "genderParity_df = wb.download(indicator=sourceIncidicator, start=2008, end=2018, country='all')\n",
    "\n",
    "\n",
    "#- Display Msg\n",
    "print(f\"Success in downloading indicator into dataframe. Count: {genderParity_df.count()}\")"
   ]
  },
  {
   "cell_type": "markdown",
   "metadata": {},
   "source": [
    "### 1.2 Verify Data\n",
    "Quickly check that the data returned from the endpoint contains the information requested."
   ]
  },
  {
   "cell_type": "code",
   "execution_count": 3,
   "metadata": {
    "scrolled": true
   },
   "outputs": [
    {
     "data": {
      "text/html": [
       "<div>\n",
       "<style scoped>\n",
       "    .dataframe tbody tr th:only-of-type {\n",
       "        vertical-align: middle;\n",
       "    }\n",
       "\n",
       "    .dataframe tbody tr th {\n",
       "        vertical-align: top;\n",
       "    }\n",
       "\n",
       "    .dataframe thead th {\n",
       "        text-align: right;\n",
       "    }\n",
       "</style>\n",
       "<table border=\"1\" class=\"dataframe\">\n",
       "  <thead>\n",
       "    <tr style=\"text-align: right;\">\n",
       "      <th></th>\n",
       "      <th></th>\n",
       "      <th>SE.ENR.PRSC.FM.ZS</th>\n",
       "    </tr>\n",
       "    <tr>\n",
       "      <th>country</th>\n",
       "      <th>year</th>\n",
       "      <th></th>\n",
       "    </tr>\n",
       "  </thead>\n",
       "  <tbody>\n",
       "    <tr>\n",
       "      <th rowspan=\"11\" valign=\"top\">Arab World</th>\n",
       "      <th>2018</th>\n",
       "      <td>NaN</td>\n",
       "    </tr>\n",
       "    <tr>\n",
       "      <th>2017</th>\n",
       "      <td>0.93583</td>\n",
       "    </tr>\n",
       "    <tr>\n",
       "      <th>2016</th>\n",
       "      <td>0.93506</td>\n",
       "    </tr>\n",
       "    <tr>\n",
       "      <th>2015</th>\n",
       "      <td>0.93472</td>\n",
       "    </tr>\n",
       "    <tr>\n",
       "      <th>2014</th>\n",
       "      <td>0.93097</td>\n",
       "    </tr>\n",
       "    <tr>\n",
       "      <th>2013</th>\n",
       "      <td>0.92959</td>\n",
       "    </tr>\n",
       "    <tr>\n",
       "      <th>2012</th>\n",
       "      <td>0.92904</td>\n",
       "    </tr>\n",
       "    <tr>\n",
       "      <th>2011</th>\n",
       "      <td>0.92285</td>\n",
       "    </tr>\n",
       "    <tr>\n",
       "      <th>2010</th>\n",
       "      <td>0.92433</td>\n",
       "    </tr>\n",
       "    <tr>\n",
       "      <th>2009</th>\n",
       "      <td>0.92310</td>\n",
       "    </tr>\n",
       "    <tr>\n",
       "      <th>2008</th>\n",
       "      <td>0.92215</td>\n",
       "    </tr>\n",
       "    <tr>\n",
       "      <th rowspan=\"11\" valign=\"top\">Caribbean small states</th>\n",
       "      <th>2018</th>\n",
       "      <td>NaN</td>\n",
       "    </tr>\n",
       "    <tr>\n",
       "      <th>2017</th>\n",
       "      <td>1.02534</td>\n",
       "    </tr>\n",
       "    <tr>\n",
       "      <th>2016</th>\n",
       "      <td>1.02379</td>\n",
       "    </tr>\n",
       "    <tr>\n",
       "      <th>2015</th>\n",
       "      <td>1.04160</td>\n",
       "    </tr>\n",
       "    <tr>\n",
       "      <th>2014</th>\n",
       "      <td>1.02854</td>\n",
       "    </tr>\n",
       "    <tr>\n",
       "      <th>2013</th>\n",
       "      <td>1.02464</td>\n",
       "    </tr>\n",
       "    <tr>\n",
       "      <th>2012</th>\n",
       "      <td>1.03235</td>\n",
       "    </tr>\n",
       "    <tr>\n",
       "      <th>2011</th>\n",
       "      <td>1.03044</td>\n",
       "    </tr>\n",
       "    <tr>\n",
       "      <th>2010</th>\n",
       "      <td>1.02676</td>\n",
       "    </tr>\n",
       "    <tr>\n",
       "      <th>2009</th>\n",
       "      <td>1.01335</td>\n",
       "    </tr>\n",
       "    <tr>\n",
       "      <th>2008</th>\n",
       "      <td>1.02211</td>\n",
       "    </tr>\n",
       "    <tr>\n",
       "      <th rowspan=\"3\" valign=\"top\">Central Europe and the Baltics</th>\n",
       "      <th>2018</th>\n",
       "      <td>NaN</td>\n",
       "    </tr>\n",
       "    <tr>\n",
       "      <th>2017</th>\n",
       "      <td>0.99432</td>\n",
       "    </tr>\n",
       "    <tr>\n",
       "      <th>2016</th>\n",
       "      <td>0.99418</td>\n",
       "    </tr>\n",
       "  </tbody>\n",
       "</table>\n",
       "</div>"
      ],
      "text/plain": [
       "                                     SE.ENR.PRSC.FM.ZS\n",
       "country                        year                   \n",
       "Arab World                     2018                NaN\n",
       "                               2017            0.93583\n",
       "                               2016            0.93506\n",
       "                               2015            0.93472\n",
       "                               2014            0.93097\n",
       "                               2013            0.92959\n",
       "                               2012            0.92904\n",
       "                               2011            0.92285\n",
       "                               2010            0.92433\n",
       "                               2009            0.92310\n",
       "                               2008            0.92215\n",
       "Caribbean small states         2018                NaN\n",
       "                               2017            1.02534\n",
       "                               2016            1.02379\n",
       "                               2015            1.04160\n",
       "                               2014            1.02854\n",
       "                               2013            1.02464\n",
       "                               2012            1.03235\n",
       "                               2011            1.03044\n",
       "                               2010            1.02676\n",
       "                               2009            1.01335\n",
       "                               2008            1.02211\n",
       "Central Europe and the Baltics 2018                NaN\n",
       "                               2017            0.99432\n",
       "                               2016            0.99418"
      ]
     },
     "execution_count": 3,
     "metadata": {},
     "output_type": "execute_result"
    }
   ],
   "source": [
    "#- Display Results\n",
    "genderParity_df.head(25)"
   ]
  },
  {
   "cell_type": "markdown",
   "metadata": {},
   "source": [
    "### 1.3 Reset Index\n",
    "The pandas_datareader library creates a hierarchical index based on the country.  This index is removed before being loaded into MySQL.  Blog post provides insight into this index: https://janakiev.com/blog/pandas-multiindex-pivot/"
   ]
  },
  {
   "cell_type": "code",
   "execution_count": 4,
   "metadata": {
    "scrolled": true
   },
   "outputs": [
    {
     "data": {
      "text/html": [
       "<div>\n",
       "<style scoped>\n",
       "    .dataframe tbody tr th:only-of-type {\n",
       "        vertical-align: middle;\n",
       "    }\n",
       "\n",
       "    .dataframe tbody tr th {\n",
       "        vertical-align: top;\n",
       "    }\n",
       "\n",
       "    .dataframe thead th {\n",
       "        text-align: right;\n",
       "    }\n",
       "</style>\n",
       "<table border=\"1\" class=\"dataframe\">\n",
       "  <thead>\n",
       "    <tr style=\"text-align: right;\">\n",
       "      <th></th>\n",
       "      <th>country</th>\n",
       "      <th>year</th>\n",
       "      <th>SE.ENR.PRSC.FM.ZS</th>\n",
       "    </tr>\n",
       "  </thead>\n",
       "  <tbody>\n",
       "    <tr>\n",
       "      <th>0</th>\n",
       "      <td>Arab World</td>\n",
       "      <td>2018</td>\n",
       "      <td>NaN</td>\n",
       "    </tr>\n",
       "    <tr>\n",
       "      <th>1</th>\n",
       "      <td>Arab World</td>\n",
       "      <td>2017</td>\n",
       "      <td>0.93583</td>\n",
       "    </tr>\n",
       "    <tr>\n",
       "      <th>2</th>\n",
       "      <td>Arab World</td>\n",
       "      <td>2016</td>\n",
       "      <td>0.93506</td>\n",
       "    </tr>\n",
       "    <tr>\n",
       "      <th>3</th>\n",
       "      <td>Arab World</td>\n",
       "      <td>2015</td>\n",
       "      <td>0.93472</td>\n",
       "    </tr>\n",
       "    <tr>\n",
       "      <th>4</th>\n",
       "      <td>Arab World</td>\n",
       "      <td>2014</td>\n",
       "      <td>0.93097</td>\n",
       "    </tr>\n",
       "    <tr>\n",
       "      <th>5</th>\n",
       "      <td>Arab World</td>\n",
       "      <td>2013</td>\n",
       "      <td>0.92959</td>\n",
       "    </tr>\n",
       "    <tr>\n",
       "      <th>6</th>\n",
       "      <td>Arab World</td>\n",
       "      <td>2012</td>\n",
       "      <td>0.92904</td>\n",
       "    </tr>\n",
       "    <tr>\n",
       "      <th>7</th>\n",
       "      <td>Arab World</td>\n",
       "      <td>2011</td>\n",
       "      <td>0.92285</td>\n",
       "    </tr>\n",
       "    <tr>\n",
       "      <th>8</th>\n",
       "      <td>Arab World</td>\n",
       "      <td>2010</td>\n",
       "      <td>0.92433</td>\n",
       "    </tr>\n",
       "    <tr>\n",
       "      <th>9</th>\n",
       "      <td>Arab World</td>\n",
       "      <td>2009</td>\n",
       "      <td>0.92310</td>\n",
       "    </tr>\n",
       "    <tr>\n",
       "      <th>10</th>\n",
       "      <td>Arab World</td>\n",
       "      <td>2008</td>\n",
       "      <td>0.92215</td>\n",
       "    </tr>\n",
       "    <tr>\n",
       "      <th>11</th>\n",
       "      <td>Caribbean small states</td>\n",
       "      <td>2018</td>\n",
       "      <td>NaN</td>\n",
       "    </tr>\n",
       "    <tr>\n",
       "      <th>12</th>\n",
       "      <td>Caribbean small states</td>\n",
       "      <td>2017</td>\n",
       "      <td>1.02534</td>\n",
       "    </tr>\n",
       "    <tr>\n",
       "      <th>13</th>\n",
       "      <td>Caribbean small states</td>\n",
       "      <td>2016</td>\n",
       "      <td>1.02379</td>\n",
       "    </tr>\n",
       "    <tr>\n",
       "      <th>14</th>\n",
       "      <td>Caribbean small states</td>\n",
       "      <td>2015</td>\n",
       "      <td>1.04160</td>\n",
       "    </tr>\n",
       "    <tr>\n",
       "      <th>15</th>\n",
       "      <td>Caribbean small states</td>\n",
       "      <td>2014</td>\n",
       "      <td>1.02854</td>\n",
       "    </tr>\n",
       "    <tr>\n",
       "      <th>16</th>\n",
       "      <td>Caribbean small states</td>\n",
       "      <td>2013</td>\n",
       "      <td>1.02464</td>\n",
       "    </tr>\n",
       "    <tr>\n",
       "      <th>17</th>\n",
       "      <td>Caribbean small states</td>\n",
       "      <td>2012</td>\n",
       "      <td>1.03235</td>\n",
       "    </tr>\n",
       "    <tr>\n",
       "      <th>18</th>\n",
       "      <td>Caribbean small states</td>\n",
       "      <td>2011</td>\n",
       "      <td>1.03044</td>\n",
       "    </tr>\n",
       "    <tr>\n",
       "      <th>19</th>\n",
       "      <td>Caribbean small states</td>\n",
       "      <td>2010</td>\n",
       "      <td>1.02676</td>\n",
       "    </tr>\n",
       "    <tr>\n",
       "      <th>20</th>\n",
       "      <td>Caribbean small states</td>\n",
       "      <td>2009</td>\n",
       "      <td>1.01335</td>\n",
       "    </tr>\n",
       "    <tr>\n",
       "      <th>21</th>\n",
       "      <td>Caribbean small states</td>\n",
       "      <td>2008</td>\n",
       "      <td>1.02211</td>\n",
       "    </tr>\n",
       "    <tr>\n",
       "      <th>22</th>\n",
       "      <td>Central Europe and the Baltics</td>\n",
       "      <td>2018</td>\n",
       "      <td>NaN</td>\n",
       "    </tr>\n",
       "    <tr>\n",
       "      <th>23</th>\n",
       "      <td>Central Europe and the Baltics</td>\n",
       "      <td>2017</td>\n",
       "      <td>0.99432</td>\n",
       "    </tr>\n",
       "    <tr>\n",
       "      <th>24</th>\n",
       "      <td>Central Europe and the Baltics</td>\n",
       "      <td>2016</td>\n",
       "      <td>0.99418</td>\n",
       "    </tr>\n",
       "  </tbody>\n",
       "</table>\n",
       "</div>"
      ],
      "text/plain": [
       "                           country  year  SE.ENR.PRSC.FM.ZS\n",
       "0                       Arab World  2018                NaN\n",
       "1                       Arab World  2017            0.93583\n",
       "2                       Arab World  2016            0.93506\n",
       "3                       Arab World  2015            0.93472\n",
       "4                       Arab World  2014            0.93097\n",
       "5                       Arab World  2013            0.92959\n",
       "6                       Arab World  2012            0.92904\n",
       "7                       Arab World  2011            0.92285\n",
       "8                       Arab World  2010            0.92433\n",
       "9                       Arab World  2009            0.92310\n",
       "10                      Arab World  2008            0.92215\n",
       "11          Caribbean small states  2018                NaN\n",
       "12          Caribbean small states  2017            1.02534\n",
       "13          Caribbean small states  2016            1.02379\n",
       "14          Caribbean small states  2015            1.04160\n",
       "15          Caribbean small states  2014            1.02854\n",
       "16          Caribbean small states  2013            1.02464\n",
       "17          Caribbean small states  2012            1.03235\n",
       "18          Caribbean small states  2011            1.03044\n",
       "19          Caribbean small states  2010            1.02676\n",
       "20          Caribbean small states  2009            1.01335\n",
       "21          Caribbean small states  2008            1.02211\n",
       "22  Central Europe and the Baltics  2018                NaN\n",
       "23  Central Europe and the Baltics  2017            0.99432\n",
       "24  Central Europe and the Baltics  2016            0.99418"
      ]
     },
     "execution_count": 4,
     "metadata": {},
     "output_type": "execute_result"
    }
   ],
   "source": [
    "#- Create New Dataframe without index\n",
    "genderParityData_df = genderParity_df.reset_index()\n",
    "\n",
    "\n",
    "#- Display Results\n",
    "genderParityData_df.head(25)"
   ]
  },
  {
   "cell_type": "markdown",
   "metadata": {},
   "source": [
    "## 2 Load\n",
    "Load the data into RAW database."
   ]
  },
  {
   "cell_type": "markdown",
   "metadata": {},
   "source": [
    "### 2.1 Create Connection\n",
    "Create a connection to the MySQL database; the password is located in the secrets.py."
   ]
  },
  {
   "cell_type": "code",
   "execution_count": 5,
   "metadata": {},
   "outputs": [
    {
     "name": "stdout",
     "output_type": "stream",
     "text": [
      "Completed creating connection to database: LatinAmericaHappiness_Raw\n"
     ]
    }
   ],
   "source": [
    "#- Create Connection String\n",
    "rds_connection_string = f\"root:{mysqlpassword}@127.0.0.1/{rawDbName}\"\n",
    "\n",
    "#- Create Connection\n",
    "engine = create_engine(f'mysql://{rds_connection_string}')\n",
    "\n",
    "#- Display Message\n",
    "print(f\"Completed creating connection to database: {rawDbName}\")"
   ]
  },
  {
   "cell_type": "markdown",
   "metadata": {},
   "source": [
    "### 2.2 Load Data\n",
    "Load the dataframe into the table within MySQL; replace any values in table if run additional times."
   ]
  },
  {
   "cell_type": "code",
   "execution_count": 6,
   "metadata": {},
   "outputs": [
    {
     "name": "stdout",
     "output_type": "stream",
     "text": [
      "Completed loading table with results; WorldBank_SE.ENR.PRSC.FM.ZS\n"
     ]
    }
   ],
   "source": [
    "tableName = \"WorldBank_SE.ENR.PRSC.FM.ZS\"\n",
    "\n",
    "genderParityData_df.to_sql(name= tableName,\n",
    "                          con = engine,\n",
    "                          if_exists='replace',\n",
    "                          index= False)\n",
    "\n",
    "print(f\"Completed loading table with results; {tableName}\")"
   ]
  },
  {
   "cell_type": "markdown",
   "metadata": {},
   "source": [
    "## 3 Verify\n",
    "Check to ensure that the records found within the DataFrame were all loaded successfully in the MySQL database."
   ]
  },
  {
   "cell_type": "code",
   "execution_count": 7,
   "metadata": {},
   "outputs": [
    {
     "name": "stdout",
     "output_type": "stream",
     "text": [
      "Number of records found in database: 2904\n"
     ]
    }
   ],
   "source": [
    "#- Get Count of records in database\n",
    "databaseCount = engine.scalar(f\"SELECT COUNT(*) FROM `{tableName}`;\")\n",
    "\n",
    "print(f\"Number of records found in database: {databaseCount}\")"
   ]
  },
  {
   "cell_type": "code",
   "execution_count": 8,
   "metadata": {},
   "outputs": [
    {
     "data": {
      "text/plain": [
       "(2904, 3)"
      ]
     },
     "execution_count": 8,
     "metadata": {},
     "output_type": "execute_result"
    }
   ],
   "source": [
    "#- Get Count of records in DataFrame\n",
    "genderParityData_df.shape"
   ]
  },
  {
   "cell_type": "markdown",
   "metadata": {},
   "source": [
    "#### Results\n",
    "The table within the database was found to have 2,904 records; the DataFrame had 2,904 records. Hence, the data was successfully loaded into the database."
   ]
  }
 ],
 "metadata": {
  "kernelspec": {
   "display_name": "Python 3",
   "language": "python",
   "name": "python3"
  },
  "language_info": {
   "codemirror_mode": {
    "name": "ipython",
    "version": 3
   },
   "file_extension": ".py",
   "mimetype": "text/x-python",
   "name": "python",
   "nbconvert_exporter": "python",
   "pygments_lexer": "ipython3",
   "version": "3.7.1"
  }
 },
 "nbformat": 4,
 "nbformat_minor": 2
}
