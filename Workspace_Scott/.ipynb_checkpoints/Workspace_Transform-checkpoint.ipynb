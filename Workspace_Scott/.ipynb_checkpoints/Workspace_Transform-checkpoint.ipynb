{
 "cells": [
  {
   "cell_type": "markdown",
   "metadata": {},
   "source": [
    "## Filter for Latin America Countries\n",
    "List of the countries include:\n",
    "\n",
    "#### South America\n",
    "Brazil\n",
    "Colombia\n",
    "Argentina\n",
    "Peru\n",
    "Venezuela\n",
    "Chile\n",
    "Ecucator\n",
    "Bolivia\n",
    "Paraguary\n",
    "Uruguary\n",
    "Guyana\n",
    "Suriname\n",
    "\n",
    "#### Central America\n",
    "Belize\n",
    "Costa Rica\n",
    "El Salvador\n",
    "Guatemala\n",
    "Honduras\n",
    "Mexico\n",
    "Nicaragua\n",
    "Panama\n",
    "\n",
    "#### Caribbean (Not include dependent territories)\n",
    "Antigua and Barbuda\n",
    "Bahamas\n",
    "Barbados\n",
    "Cuba\n",
    "Dominica\n",
    "Docinican Republic\n",
    "Grenada\n",
    "Haiti\n",
    "Jamaica\n",
    "Saint Kitts and Navis\n",
    "Saint Lucia\n",
    "Saint Vincent and the Grenadines\n",
    "Trinidada and Tobago"
   ]
  },
  {
   "cell_type": "code",
   "execution_count": 1,
   "metadata": {},
   "outputs": [],
   "source": [
    "#-- Import Dependencies\n",
    "import pandas as pd\n",
    "from sqlalchemy import create_engine\n",
    "import pymysql\n",
    "\n",
    "pymysql.install_as_MySQLdb()\n",
    "\n",
    "from secrets import mysqlpassword\n",
    "\n",
    "\n",
    "#- Variables\n",
    "rawDbName = 'LatinAmericaHappiness_Raw'\n"
   ]
  },
  {
   "cell_type": "code",
   "execution_count": 2,
   "metadata": {},
   "outputs": [
    {
     "name": "stdout",
     "output_type": "stream",
     "text": [
      "Completed creating connection to database: LatinAmericaHappiness_Raw\n"
     ]
    }
   ],
   "source": [
    "#-- Open Connection\n",
    "\n",
    "#- Create Connection String\n",
    "rds_connection_string = f\"root:{mysqlpassword}@127.0.0.1/{rawDbName}\"\n",
    "\n",
    "#- Create Connection\n",
    "engine = create_engine(f'mysql://{rds_connection_string}')\n",
    "\n",
    "#- Display Message\n",
    "print(f\"Completed creating connection to database: {rawDbName}\")"
   ]
  },
  {
   "cell_type": "code",
   "execution_count": null,
   "metadata": {},
   "outputs": [],
   "source": []
  },
  {
   "cell_type": "markdown",
   "metadata": {},
   "source": [
    "## Lookup Table\n",
    "Create lookup table within the RAW database that is to be used for filtering data\n"
   ]
  },
  {
   "cell_type": "code",
   "execution_count": 3,
   "metadata": {},
   "outputs": [
    {
     "data": {
      "text/html": [
       "<div>\n",
       "<style scoped>\n",
       "    .dataframe tbody tr th:only-of-type {\n",
       "        vertical-align: middle;\n",
       "    }\n",
       "\n",
       "    .dataframe tbody tr th {\n",
       "        vertical-align: top;\n",
       "    }\n",
       "\n",
       "    .dataframe thead th {\n",
       "        text-align: right;\n",
       "    }\n",
       "</style>\n",
       "<table border=\"1\" class=\"dataframe\">\n",
       "  <thead>\n",
       "    <tr style=\"text-align: right;\">\n",
       "      <th></th>\n",
       "      <th>Country</th>\n",
       "      <th>Region</th>\n",
       "    </tr>\n",
       "  </thead>\n",
       "  <tbody>\n",
       "    <tr>\n",
       "      <th>0</th>\n",
       "      <td>Brazil</td>\n",
       "      <td>South America</td>\n",
       "    </tr>\n",
       "    <tr>\n",
       "      <th>1</th>\n",
       "      <td>Colombia</td>\n",
       "      <td>South America</td>\n",
       "    </tr>\n",
       "    <tr>\n",
       "      <th>2</th>\n",
       "      <td>Argentina</td>\n",
       "      <td>South America</td>\n",
       "    </tr>\n",
       "    <tr>\n",
       "      <th>3</th>\n",
       "      <td>Peru</td>\n",
       "      <td>South America</td>\n",
       "    </tr>\n",
       "    <tr>\n",
       "      <th>4</th>\n",
       "      <td>Venezuela</td>\n",
       "      <td>South America</td>\n",
       "    </tr>\n",
       "  </tbody>\n",
       "</table>\n",
       "</div>"
      ],
      "text/plain": [
       "     Country         Region\n",
       "0     Brazil  South America\n",
       "1   Colombia  South America\n",
       "2  Argentina  South America\n",
       "3       Peru  South America\n",
       "4  Venezuela  South America"
      ]
     },
     "execution_count": 3,
     "metadata": {},
     "output_type": "execute_result"
    }
   ],
   "source": [
    "#- Create DataFrame with country information\n",
    "\n",
    "#- South America\n",
    "countriesSouthAmerica = [\n",
    "    'Brazil',\n",
    "    'Colombia',\n",
    "    'Argentina',\n",
    "    'Peru',\n",
    "    'Venezuela',\n",
    "    'Chile',\n",
    "    'Ecucator',\n",
    "    'Bolivia',\n",
    "    'Paraguary',\n",
    "    'Uruguary',\n",
    "    'Guyana',\n",
    "    'Suriname'\n",
    "    ]\n",
    "\n",
    "\n",
    "#- Central America\n",
    "countriesCentralAmerica = [\n",
    "    'Belize',\n",
    "    'Costa Rica',\n",
    "    'El Salvador',\n",
    "    'Guatemala',\n",
    "    'Honduras',\n",
    "    'Mexico',\n",
    "    'Nicaragua',\n",
    "    'Panama'\n",
    "    ]\n",
    "\n",
    "\n",
    "#- Caribbean\n",
    "countriesCaribbean = [\n",
    "    'Antigua and Barbuda',\n",
    "    'Bahamas',\n",
    "    'Barbados',\n",
    "    'Cuba',\n",
    "    'Dominica',\n",
    "    'Docinican Republic',\n",
    "    'Grenada',\n",
    "    'Haiti',\n",
    "    'Jamaica',\n",
    "    'Saint Kitts and Navis',\n",
    "    'Saint Lucia',\n",
    "    'Saint Vincent and the Grenadines',\n",
    "    'Trinidada and Tobago',   \n",
    "    ]\n",
    "\n",
    "\n",
    "#-- Create List for DataFrame\n",
    "allCountries = []\n",
    "allRegions = []\n",
    "\n",
    "for country in countriesSouthAmerica:\n",
    "    allCountries.append(country)\n",
    "    allRegions.append('South America')\n",
    "\n",
    "for country in countriesCentralAmerica:\n",
    "    allCountries.append(country)\n",
    "    allRegions.append('Central America')\n",
    "\n",
    "for country in countriesCaribbean:\n",
    "    allCountries.append(country)\n",
    "    allRegions.append('Caribbean')\n",
    "    \n",
    "\n",
    "#-- Create Data Frame\n",
    "sourceCountry = {\n",
    "    \"Country\": allCountries,\n",
    "    \"Region\" : allRegions\n",
    "    }\n",
    "\n",
    "sourceCountry_df = pd.DataFrame(sourceCountry)\n",
    "\n",
    "sourceCountry_df.head()"
   ]
  },
  {
   "cell_type": "code",
   "execution_count": 4,
   "metadata": {},
   "outputs": [
    {
     "name": "stdout",
     "output_type": "stream",
     "text": [
      "Completed loading table with countries; StudyCountry\n"
     ]
    }
   ],
   "source": [
    "#-- Create table in MySQL\n",
    "tableName = \"StudyCountry\"\n",
    "\n",
    "sourceCountry_df.to_sql(name= tableName,\n",
    "                          con = engine,\n",
    "                          if_exists='replace',\n",
    "                          index= False)\n",
    "\n",
    "print(f\"Completed loading table with countries; {tableName}\")"
   ]
  },
  {
   "cell_type": "code",
   "execution_count": null,
   "metadata": {},
   "outputs": [],
   "source": []
  }
 ],
 "metadata": {
  "kernelspec": {
   "display_name": "Python 3",
   "language": "python",
   "name": "python3"
  },
  "language_info": {
   "codemirror_mode": {
    "name": "ipython",
    "version": 3
   },
   "file_extension": ".py",
   "mimetype": "text/x-python",
   "name": "python",
   "nbconvert_exporter": "python",
   "pygments_lexer": "ipython3",
   "version": "3.7.1"
  }
 },
 "nbformat": 4,
 "nbformat_minor": 2
}
